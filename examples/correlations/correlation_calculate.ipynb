{
 "cells": [
  {
   "cell_type": "code",
   "execution_count": 1,
   "metadata": {},
   "outputs": [],
   "source": [
    "from mfpml.problems.multifidelity_functions import *\n",
    "from scipy.stats import spearmanr\n",
    "from mfpml.design_of_experiment.multifidelity_samplers import MFSobolSequence"
   ]
  },
  {
   "cell_type": "code",
   "execution_count": 2,
   "metadata": {},
   "outputs": [
    {
     "name": "stdout",
     "output_type": "stream",
     "text": [
      "Forrester_1a 1.0\n",
      "Forrester_1b 0.32314291114291116\n",
      "Forrester_1c -0.6233573033573034\n",
      "mf_Bohachevsky 0.8942052302052304\n",
      "mf_Booth 0.8220090780090781\n",
      "mf_Borehole 0.9999999879999882\n",
      "mf_CurrinExp 0.9972042492042492\n",
      "mf_Hartman3 -0.2675776475776476\n",
      "mf_Hartman6 0.7372856212856214\n",
      "mf_Himmelblau 0.8230726390726392\n",
      "mf_Park91A 0.9925255165255166\n",
      "mf_Park91B 1.0\n",
      "mf_Sixhump 0.630914994914995\n"
     ]
    }
   ],
   "source": [
    "fun_name = ['Forrester_1a', 'Forrester_1b', 'Forrester_1c',\n",
    "            'mf_Bohachevsky', 'mf_Booth', 'mf_Borehole',\n",
    "            'mf_CurrinExp', 'mf_Hartman3', 'mf_Hartman6',\n",
    "            'mf_Himmelblau', 'mf_Park91A', 'mf_Park91B',\n",
    "            'mf_Sixhump']\n",
    "\n",
    "# loop over all functions\n",
    "for name in fun_name:\n",
    "    func = eval(name)()\n",
    "    # get samplers\n",
    "    sampler = MFSobolSequence(design_space=func.design_space, nested=True)\n",
    "    samples = sampler.get_samples(num_lf_samples=1000, num_hf_samples=1000)\n",
    "    responses = func(samples)\n",
    "    r2 = spearmanr(responses[\"hf\"], responses[\"lf\"])\n",
    "    print(name, r2.correlation)"
   ]
  }
 ],
 "metadata": {
  "kernelspec": {
   "display_name": "f3dasm_env",
   "language": "python",
   "name": "python3"
  },
  "language_info": {
   "codemirror_mode": {
    "name": "ipython",
    "version": 3
   },
   "file_extension": ".py",
   "mimetype": "text/x-python",
   "name": "python",
   "nbconvert_exporter": "python",
   "pygments_lexer": "ipython3",
   "version": "3.10.13"
  }
 },
 "nbformat": 4,
 "nbformat_minor": 2
}
