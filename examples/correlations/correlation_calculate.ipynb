{
 "cells": [
  {
   "cell_type": "code",
   "execution_count": 1,
   "metadata": {},
   "outputs": [],
   "source": [
    "from mfpml.problems.multifidelity_functions import *\n",
    "from scipy.stats import spearmanr\n",
    "from mfpml.design_of_experiment.multifidelity_samplers import MFSobolSequence"
   ]
  },
  {
   "cell_type": "code",
   "execution_count": 6,
   "metadata": {},
   "outputs": [
    {
     "name": "stdout",
     "output_type": "stream",
     "text": [
      "===========================================\n",
      "Forrester_1a\n",
      "1.0\n",
      "4.461797243520313\n",
      "===========================================\n",
      "Forrester_1b\n",
      "0.32314291114291116\n",
      "4.461797243520313\n",
      "===========================================\n",
      "Forrester_1c\n",
      "-0.6233573033573034\n",
      "4.461797243520313\n",
      "===========================================\n",
      "mf_Bohachevsky\n",
      "0.8942052302052304\n",
      "16.66434603696071\n",
      "===========================================\n",
      "mf_Booth\n",
      "0.8220090780090781\n",
      "449.75259466968146\n",
      "===========================================\n",
      "mf_Borehole\n",
      "0.9999999879999882\n",
      "45.812797473367496\n",
      "===========================================\n",
      "mf_CurrinExp\n",
      "0.9972042492042492\n",
      "2.6455981498784036\n",
      "===========================================\n",
      "mf_Hartman3\n",
      "-0.2675776475776476\n",
      "0.9612211664061592\n",
      "===========================================\n",
      "mf_Hartman6\n",
      "0.7372856212856214\n",
      "1.9492138597779447\n",
      "===========================================\n",
      "mf_Himmelblau\n",
      "0.8230726390726392\n",
      "60.91129210791545\n",
      "===========================================\n",
      "mf_Park91A\n",
      "0.9925255165255166\n",
      "4.756814751755069\n",
      "===========================================\n",
      "mf_Park91B\n",
      "1.0\n",
      "0.8438898489316957\n",
      "===========================================\n",
      "mf_Sixhump\n",
      "0.630914994914995\n",
      "12.684909348541694\n"
     ]
    }
   ],
   "source": [
    "fun_name = ['Forrester_1a', 'Forrester_1b', 'Forrester_1c',\n",
    "            'mf_Bohachevsky', 'mf_Booth', 'mf_Borehole',\n",
    "            'mf_CurrinExp', 'mf_Hartman3', 'mf_Hartman6',\n",
    "            'mf_Himmelblau', 'mf_Park91A', 'mf_Park91B',\n",
    "            'mf_Sixhump']\n",
    "\n",
    "# loop over all functions\n",
    "for name in fun_name:\n",
    "    func = eval(name)()\n",
    "    # get samplers\n",
    "    sampler = MFSobolSequence(design_space=func.design_space, nested=True)\n",
    "    samples = sampler.get_samples(num_lf_samples=1000, num_hf_samples=1000)\n",
    "    responses = func(samples)\n",
    "    r2 = spearmanr(responses[\"hf\"], responses[\"lf\"])\n",
    "    print(\"===========================================\")\n",
    "    print(name)\n",
    "    print(r2.correlation)\n",
    "    print(responses[\"hf\"].std())"
   ]
  },
  {
   "cell_type": "code",
   "execution_count": null,
   "metadata": {},
   "outputs": [],
   "source": []
  }
 ],
 "metadata": {
  "kernelspec": {
   "display_name": "f3dasm_env",
   "language": "python",
   "name": "python3"
  },
  "language_info": {
   "codemirror_mode": {
    "name": "ipython",
    "version": 3
   },
   "file_extension": ".py",
   "mimetype": "text/x-python",
   "name": "python",
   "nbconvert_exporter": "python",
   "pygments_lexer": "ipython3",
   "version": "3.10.13"
  }
 },
 "nbformat": 4,
 "nbformat_minor": 2
}
