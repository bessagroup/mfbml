{
 "cells": [
  {
   "cell_type": "code",
   "execution_count": 1,
   "metadata": {},
   "outputs": [],
   "source": [
    "from mfpml.problems.multifidelity_functions import mf_Hartman6, mf_Hartman3, mf_Sixhump, Forrester_1a\n",
    "from scipy.stats import spearmanr\n",
    "from mfpml.design_of_experiment.multifidelity_samplers import MFSobolSequence"
   ]
  },
  {
   "cell_type": "code",
   "execution_count": 2,
   "metadata": {},
   "outputs": [],
   "source": [
    "func = mf_Sixhump()\n",
    "\n",
    "# get samplers\n",
    "sampler = MFSobolSequence(design_space=func.design_space, nested=True)\n",
    "samples = sampler.get_samples(num_lf_samples=1000, num_hf_samples=1000)\n",
    "responses = func(samples)"
   ]
  },
  {
   "cell_type": "code",
   "execution_count": 3,
   "metadata": {},
   "outputs": [],
   "source": [
    "r2 = spearmanr(responses['hf'], responses['lf'])"
   ]
  },
  {
   "cell_type": "code",
   "execution_count": 6,
   "metadata": {},
   "outputs": [
    {
     "name": "stdout",
     "output_type": "stream",
     "text": [
      "0.630914994914995\n"
     ]
    }
   ],
   "source": [
    "print(r2.correlation)"
   ]
  },
  {
   "cell_type": "code",
   "execution_count": null,
   "metadata": {},
   "outputs": [],
   "source": []
  }
 ],
 "metadata": {
  "kernelspec": {
   "display_name": "f3dasm_env",
   "language": "python",
   "name": "python3"
  },
  "language_info": {
   "codemirror_mode": {
    "name": "ipython",
    "version": 3
   },
   "file_extension": ".py",
   "mimetype": "text/x-python",
   "name": "python",
   "nbconvert_exporter": "python",
   "pygments_lexer": "ipython3",
   "version": "3.10.13"
  }
 },
 "nbformat": 4,
 "nbformat_minor": 2
}
