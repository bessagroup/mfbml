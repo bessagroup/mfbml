{
 "cells": [
  {
   "cell_type": "code",
   "execution_count": 1,
   "metadata": {},
   "outputs": [],
   "source": [
    "from mfpml.problems.multifidelity_functions import mf_Hartman6, mf_Hartman3, mf_Sixhump, Forrester_1a\n",
    "from scipy.stats import spearmanr\n",
    "from mfpml.design_of_experiment.multifidelity_samplers import MFSobolSequence"
   ]
  },
  {
   "cell_type": "code",
   "execution_count": 20,
   "metadata": {},
   "outputs": [],
   "source": [
    "func = mf_Sixhump()\n",
    "\n",
    "# get samplers\n",
    "sampler = MFSobolSequence(design_space=func.design_space, nested=True)\n",
    "samples = sampler.get_samples(num_lf_samples=1000, num_hf_samples=1000)\n",
    "responses = func(samples)"
   ]
  },
  {
   "cell_type": "code",
   "execution_count": 21,
   "metadata": {},
   "outputs": [],
   "source": [
    "r2 = spearmanr(responses['hf'], responses['lf'])"
   ]
  },
  {
   "cell_type": "code",
   "execution_count": 9,
   "metadata": {},
   "outputs": [],
   "source": [
    "x = 0.01"
   ]
  },
  {
   "cell_type": "code",
   "execution_count": 10,
   "metadata": {},
   "outputs": [],
   "source": [
    "paras_pp = [\n",
    "    748.234,\n",
    "    0.45,\n",
    "    296.0,\n",
    "    0.1,\n",
    "    1.53e-02,\n",
    "    6.608e-01,\n",
    "    7.33e02,\n",
    "    2.51e08,\n",
    "    3.30e-26,\n",
    "    7.42e06,\n",
    "    2.67e-02,\n",
    "    x,\n",
    "    1.520,\n",
    "    1.303,\n",
    "]"
   ]
  },
  {
   "cell_type": "code",
   "execution_count": 11,
   "metadata": {},
   "outputs": [
    {
     "data": {
      "text/plain": [
       "748.234"
      ]
     },
     "execution_count": 11,
     "metadata": {},
     "output_type": "execute_result"
    }
   ],
   "source": [
    "paras_pp[0]"
   ]
  },
  {
   "cell_type": "code",
   "execution_count": 12,
   "metadata": {},
   "outputs": [
    {
     "data": {
      "text/plain": [
       "float"
      ]
     },
     "execution_count": 12,
     "metadata": {},
     "output_type": "execute_result"
    }
   ],
   "source": [
    "type(x)"
   ]
  },
  {
   "cell_type": "code",
   "execution_count": null,
   "metadata": {},
   "outputs": [],
   "source": []
  }
 ],
 "metadata": {
  "kernelspec": {
   "display_name": "f3dasm_env",
   "language": "python",
   "name": "python3"
  },
  "language_info": {
   "codemirror_mode": {
    "name": "ipython",
    "version": 3
   },
   "file_extension": ".py",
   "mimetype": "text/x-python",
   "name": "python",
   "nbconvert_exporter": "python",
   "pygments_lexer": "ipython3",
   "version": "3.10.13"
  }
 },
 "nbformat": 4,
 "nbformat_minor": 2
}
