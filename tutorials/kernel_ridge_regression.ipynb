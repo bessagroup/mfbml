{
 "cells": [
  {
   "cell_type": "markdown",
   "metadata": {},
   "source": [
    "# Kernel Ridge Regression (KRR)\n",
    "\n",
    "Kernel Ridge Regression (KRR) is a powerful machine learning technique that combines the concepts of ridge regression and the kernel trick to handle non-linear relationships in data. It extends linear ridge regression to non-linear settings by applying kernel functions, allowing the model to learn complex patterns.\n",
    "\n",
    "In KRR, the objective function is:\n",
    "\n",
    "$$\n",
    "\\min_{\\mathbf{w}} \\left\\{ \\sum_{i=1}^{n} (y_i - \\sum_{j=1}^{n} w_j k(\\mathbf{x}_i, \\mathbf{x}_j))^2 + \\lambda \\sum_{i,j=1}^{n} w_i w_j k(\\mathbf{x}_i, \\mathbf{x}_j) \\right\\}\n",
    "$$\n",
    "\n",
    "where $w_j$ are the coefficients in the kernelized space. The solution can be computed in a dual form, making it efficient for high-dimensional data.\n",
    "\n",
    "\n"
   ]
  },
  {
   "cell_type": "code",
   "execution_count": 3,
   "metadata": {},
   "outputs": [],
   "source": [
    "# import the necessary packages\n",
    "from mfbml.problems.illustrative_problems import mf_Forrester\n",
    "from mfbml.methods.kernel_ridge_regression import KernelRidgeRegression\n",
    "import numpy as np\n",
    "import matplotlib.pyplot as plt"
   ]
  },
  {
   "cell_type": "markdown",
   "metadata": {},
   "source": [
    "## Define the function and get samples"
   ]
  },
  {
   "cell_type": "code",
   "execution_count": null,
   "metadata": {},
   "outputs": [],
   "source": [
    "# define the problem\n",
    "problem = mf_Forrester()\n",
    "# generate the sample data\n",
    "sample_x = np.linspace(0, 1, 10).reshape(-1, 1)\n",
    "sample_y = problem.hf(sample_x, noise_std=0.0)\n",
    "\n",
    "# generate the test data\n",
    "test_x = np.linspace(0, 1, 100)\n",
    "test_y = problem.hf(test_x, noise_std=0.0)"
   ]
  },
  {
   "cell_type": "code",
   "execution_count": null,
   "metadata": {},
   "outputs": [],
   "source": [
    "# plot the the data and the original function\n",
    "fig, ax = plt.subplots(figsize=(5, 4))\n",
    "ax.plot(sample_x, sample_y, 'bo', label='samples')\n",
    "ax.plot(test_x, test_y, 'k-', label='ground truth')\n",
    "plt.legend()\n",
    "plt.show()"
   ]
  },
  {
   "cell_type": "markdown",
   "metadata": {},
   "source": [
    "## noiseless case"
   ]
  },
  {
   "cell_type": "code",
   "execution_count": null,
   "metadata": {},
   "outputs": [],
   "source": [
    "# define the noiseless kernel ridge regression by setting noise_data=False\n",
    "model = KernelRidgeRegression(design_space=problem.design_space,\n",
    "                              params_optimize=True,\n",
    "                              optimizer_restart=10,\n",
    "                              noise_data=False,\n",
    "                              )\n",
    "\n",
    "# train the model\n",
    "model.train(sample_x, sample_y)\n",
    "\n",
    "# prediction of the test data\n",
    "pred_y = model.predict(test_x.reshape(-1, 1))"
   ]
  },
  {
   "cell_type": "code",
   "execution_count": null,
   "metadata": {},
   "outputs": [],
   "source": [
    "# plot the prediction of kernel ridge regression\n",
    "fig, ax = plt.subplots(figsize=(5, 4))\n",
    "ax.plot(sample_x, sample_y, 'bo', linewidth=2,  label='samples')\n",
    "ax.plot(test_x, test_y, 'k-', linewidth=2, label='truth')\n",
    "ax.plot(test_x, pred_y, 'r--', linewidth=2, label='prediction')\n",
    "plt.legend()\n",
    "plt.show()"
   ]
  },
  {
   "cell_type": "markdown",
   "metadata": {},
   "source": [
    "## noisy case"
   ]
  },
  {
   "cell_type": "code",
   "execution_count": null,
   "metadata": {},
   "outputs": [],
   "source": [
    "# show case of the noisy kernel ridge regression by setting noise_data=True\n",
    "sample_x_noisy = np.linspace(0, 1, 15).reshape(-1, 1)\n",
    "sample_y_noisy = problem.hf(sample_x_noisy, noise_std=0.3)\n",
    "model_noise = KernelRidgeRegression(design_space=problem.design_space,\n",
    "                                    params_optimize=True,\n",
    "                                    optimizer_restart=10,\n",
    "                                    noise_data=True,\n",
    "                                    )\n",
    "# train the model with noisy data\n",
    "model_noise.train(sample_x_noisy, sample_y_noisy)\n",
    "\n",
    "# prediction of the test data\n",
    "pred_y_noisy = model_noise.predict(test_x.reshape(-1, 1))"
   ]
  },
  {
   "cell_type": "code",
   "execution_count": null,
   "metadata": {},
   "outputs": [],
   "source": [
    "# plot the prediction of kernel ridge regression\n",
    "fig, ax = plt.subplots(figsize=(5, 4))\n",
    "ax.plot(sample_x_noisy, sample_y_noisy, 'bo', label='samples')\n",
    "ax.plot(test_x, test_y, 'k-', linewidth=2, label='truth')\n",
    "ax.plot(test_x, pred_y_noisy, 'r--', linewidth=2, label='prediction')\n",
    "plt.legend()\n",
    "plt.show()"
   ]
  }
 ],
 "metadata": {
  "kernelspec": {
   "display_name": "mfbml_env",
   "language": "python",
   "name": "python3"
  },
  "language_info": {
   "codemirror_mode": {
    "name": "ipython",
    "version": 3
   },
   "file_extension": ".py",
   "mimetype": "text/x-python",
   "name": "python",
   "nbconvert_exporter": "python",
   "pygments_lexer": "ipython3",
   "version": "3.10.14"
  }
 },
 "nbformat": 4,
 "nbformat_minor": 2
}
