{
 "cells": [
  {
   "cell_type": "code",
   "execution_count": 1,
   "metadata": {},
   "outputs": [],
   "source": [
    "import numpy as np\n",
    "import pandas as pd"
   ]
  },
  {
   "cell_type": "code",
   "execution_count": 2,
   "metadata": {},
   "outputs": [],
   "source": [
    "meng_results = pd.read_csv(\"../meng_10_runs/meng_mf_bnn_20D_results.csv\")\n",
    "proposed_results = pd.read_csv(\"../mf_dnn_bnn_10_runs/mf_dnn_bnn_20D_results.csv\")"
   ]
  },
  {
   "cell_type": "code",
   "execution_count": 6,
   "metadata": {},
   "outputs": [
    {
     "name": "stdout",
     "output_type": "stream",
     "text": [
      "meng_results\n",
      "nmae              0.770564\n",
      "nrmse             0.079189\n",
      "r2                0.936001\n",
      "log_likelihood   -8.856946\n",
      "lf_nmae           0.444897\n",
      "lf_nrmse          0.062918\n",
      "lf_r2             0.963510\n",
      "dtype: float64\n",
      "nmae              0.136636\n",
      "nrmse             0.009525\n",
      "r2                0.015090\n",
      "log_likelihood    1.497646\n",
      "lf_nmae           0.086522\n",
      "lf_nrmse          0.007035\n",
      "lf_r2             0.008027\n",
      "dtype: float64\n"
     ]
    }
   ],
   "source": [
    "# print(meng_results)\n",
    "print(\"meng_results\")\n",
    "print(meng_results.mean())\n",
    "print(meng_results.std())"
   ]
  },
  {
   "cell_type": "code",
   "execution_count": 5,
   "metadata": {},
   "outputs": [
    {
     "name": "stdout",
     "output_type": "stream",
     "text": [
      "proposed_results\n",
      "nmae              0.793195\n",
      "nrmse             0.072989\n",
      "r2                0.945603\n",
      "log_likelihood   -9.352492\n",
      "lf_nmae           0.403652\n",
      "lf_nrmse          0.053735\n",
      "lf_r2             0.973168\n",
      "beta_0           -5.000000\n",
      "beta_1            1.305526\n",
      "dtype: float64\n",
      "nmae              0.311768\n",
      "nrmse             0.008974\n",
      "r2                0.013168\n",
      "log_likelihood    0.999319\n",
      "lf_nmae           0.039852\n",
      "lf_nrmse          0.008230\n",
      "lf_r2             0.008068\n",
      "beta_0            0.000000\n",
      "beta_1            0.002264\n",
      "dtype: float64\n"
     ]
    }
   ],
   "source": [
    "# print(proposed_results)\n",
    "print(\"proposed_results\")\n",
    "print(proposed_results.mean())\n",
    "print(proposed_results.std())"
   ]
  },
  {
   "cell_type": "code",
   "execution_count": 10,
   "metadata": {},
   "outputs": [],
   "source": [
    "# read results of bnn and concatenate them\n",
    "bnn_results = pd.DataFrame()\n",
    "for i in range(5):\n",
    "    bnn_result = pd.read_csv(\n",
    "        f'../bnn/bnn_20D_problem_{i}.csv')\n",
    "    bnn_results = pd.concat([bnn_results, bnn_result])"
   ]
  },
  {
   "cell_type": "code",
   "execution_count": 12,
   "metadata": {},
   "outputs": [
    {
     "data": {
      "text/plain": [
       "nmae               1.213756\n",
       "nrmse              0.161528\n",
       "r2                 0.736497\n",
       "log_likelihood   -23.717976\n",
       "dtype: float64"
      ]
     },
     "execution_count": 12,
     "metadata": {},
     "output_type": "execute_result"
    }
   ],
   "source": [
    "bnn_results.mean()"
   ]
  },
  {
   "cell_type": "code",
   "execution_count": 13,
   "metadata": {},
   "outputs": [
    {
     "data": {
      "text/plain": [
       "nmae              0.218927\n",
       "nrmse             0.003047\n",
       "r2                0.009976\n",
       "log_likelihood    1.539066\n",
       "dtype: float64"
      ]
     },
     "execution_count": 13,
     "metadata": {},
     "output_type": "execute_result"
    }
   ],
   "source": [
    "bnn_results.std()"
   ]
  },
  {
   "cell_type": "code",
   "execution_count": null,
   "metadata": {},
   "outputs": [],
   "source": []
  }
 ],
 "metadata": {
  "kernelspec": {
   "display_name": "mfpml_env",
   "language": "python",
   "name": "python3"
  },
  "language_info": {
   "codemirror_mode": {
    "name": "ipython",
    "version": 3
   },
   "file_extension": ".py",
   "mimetype": "text/x-python",
   "name": "python",
   "nbconvert_exporter": "python",
   "pygments_lexer": "ipython3",
   "version": "3.10.12"
  }
 },
 "nbformat": 4,
 "nbformat_minor": 2
}
