{
 "cells": [
  {
   "cell_type": "code",
   "execution_count": 1,
   "metadata": {},
   "outputs": [],
   "source": [
    "import numpy as np\n",
    "import pandas as pd"
   ]
  },
  {
   "cell_type": "code",
   "execution_count": 2,
   "metadata": {},
   "outputs": [],
   "source": [
    "# read results from the csv file\n",
    "meng_results = pd.read_csv(\"../meng_10_runs/meng_mf_bnn_4D_results.csv\")\n",
    "proposed_results = pd.read_csv(\"../mf_dnn_bnn_10_runs/mf_dnn_bnn_4D_results.csv\")\n",
    "bnn_results = pd.read_csv(\"../bnn/bnn_4D_results.csv\")"
   ]
  },
  {
   "cell_type": "code",
   "execution_count": 3,
   "metadata": {},
   "outputs": [],
   "source": [
    "# get the mean and std of the results\n",
    "meng_mean = meng_results.mean()\n",
    "meng_std = meng_results.std()\n",
    "proposed_mean = proposed_results.mean()\n",
    "proposed_std = proposed_results.std()"
   ]
  },
  {
   "cell_type": "code",
   "execution_count": 4,
   "metadata": {},
   "outputs": [
    {
     "name": "stdout",
     "output_type": "stream",
     "text": [
      "meng results\n",
      "nmae              0.768724\n",
      "nrmse             0.116213\n",
      "r2                0.961740\n",
      "log_likelihood    1.267972\n",
      "lf_nmae           0.959665\n",
      "lf_nrmse          0.214718\n",
      "lf_r2             0.970040\n",
      "dtype: float64\n",
      "nmae              0.230122\n",
      "nrmse             0.013439\n",
      "r2                0.008927\n",
      "log_likelihood    0.039660\n",
      "lf_nmae           0.019919\n",
      "lf_nrmse          0.002304\n",
      "lf_r2             0.000651\n",
      "dtype: float64\n"
     ]
    }
   ],
   "source": [
    "print(\"meng results\")\n",
    "print(meng_mean)\n",
    "print(meng_std)"
   ]
  },
  {
   "cell_type": "code",
   "execution_count": 5,
   "metadata": {},
   "outputs": [
    {
     "name": "stdout",
     "output_type": "stream",
     "text": [
      "proposed results\n",
      "nmae              0.588179\n",
      "nrmse             0.085521\n",
      "r2                0.979114\n",
      "log_likelihood    1.391405\n",
      "lf_nmae           0.958276\n",
      "lf_nrmse          0.214480\n",
      "lf_r2             0.970110\n",
      "beta_0           -0.413343\n",
      "beta_1            0.859410\n",
      "dtype: float64\n",
      "nmae              0.184064\n",
      "nrmse             0.012808\n",
      "r2                0.006139\n",
      "log_likelihood    0.043317\n",
      "lf_nmae           0.018508\n",
      "lf_nrmse          0.000451\n",
      "lf_r2             0.000126\n",
      "beta_0            0.001820\n",
      "beta_1            0.001181\n",
      "dtype: float64\n"
     ]
    }
   ],
   "source": [
    "# print mf_dnn_bnn results\n",
    "print(\"proposed results\")\n",
    "print(proposed_mean)\n",
    "print(proposed_std)"
   ]
  },
  {
   "cell_type": "code",
   "execution_count": 6,
   "metadata": {},
   "outputs": [
    {
     "name": "stdout",
     "output_type": "stream",
     "text": [
      "bnn results\n",
      "nmae              3.490824\n",
      "nrmse             0.762434\n",
      "r2               -0.629615\n",
      "log_likelihood   -5.355480\n",
      "dtype: float64\n",
      "nmae              0.306161\n",
      "nrmse             0.030885\n",
      "r2                0.131405\n",
      "log_likelihood    0.457579\n",
      "dtype: float64\n"
     ]
    }
   ],
   "source": [
    "print(\"bnn results\")\n",
    "print(bnn_results.mean())\n",
    "print(bnn_results.std())"
   ]
  },
  {
   "cell_type": "code",
   "execution_count": null,
   "metadata": {},
   "outputs": [],
   "source": []
  }
 ],
 "metadata": {
  "kernelspec": {
   "display_name": "mfpml_env",
   "language": "python",
   "name": "python3"
  },
  "language_info": {
   "codemirror_mode": {
    "name": "ipython",
    "version": 3
   },
   "file_extension": ".py",
   "mimetype": "text/x-python",
   "name": "python",
   "nbconvert_exporter": "python",
   "pygments_lexer": "ipython3",
   "version": "3.10.12"
  }
 },
 "nbformat": 4,
 "nbformat_minor": 2
}
