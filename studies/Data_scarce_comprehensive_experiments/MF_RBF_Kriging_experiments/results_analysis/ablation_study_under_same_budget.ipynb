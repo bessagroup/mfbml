{
 "cells": [
  {
   "cell_type": "code",
   "execution_count": 1,
   "metadata": {},
   "outputs": [],
   "source": [
    "import pandas as pd\n",
    "import numpy as np\n",
    "import seaborn as sns\n",
    "import matplotlib.pyplot as plt\n",
    "from mfpml.problems.multifidelity_functions import *\n",
    "from scipy.stats import spearmanr\n",
    "from mfpml.design_of_experiment import MFSobolSequence"
   ]
  },
  {
   "cell_type": "code",
   "execution_count": 2,
   "metadata": {},
   "outputs": [
    {
     "name": "stdout",
     "output_type": "stream",
     "text": [
      "=====================================\n",
      "Function:  mf_Bohachevsky\n",
      "Correlation:  0.8942052302052304\n",
      "Dimension:  2\n",
      "=====================================\n",
      "=====================================\n",
      "Function:  mf_Booth\n",
      "Correlation:  0.8220090780090781\n",
      "Dimension:  2\n",
      "=====================================\n",
      "=====================================\n",
      "Function:  mf_Borehole\n",
      "Correlation:  0.9999999879999882\n",
      "Dimension:  8\n",
      "=====================================\n",
      "=====================================\n",
      "Function:  mf_CurrinExp\n",
      "Correlation:  0.9972042492042492\n",
      "Dimension:  2\n",
      "=====================================\n",
      "=====================================\n",
      "Function:  mf_Hartman3\n",
      "Correlation:  -0.2675776475776476\n",
      "Dimension:  3\n",
      "=====================================\n",
      "=====================================\n",
      "Function:  mf_Hartman6\n",
      "Correlation:  0.7372856212856214\n",
      "Dimension:  6\n",
      "=====================================\n",
      "=====================================\n",
      "Function:  mf_Himmelblau\n",
      "Correlation:  0.8230726390726392\n",
      "Dimension:  2\n",
      "=====================================\n",
      "=====================================\n",
      "Function:  mf_Park91A\n",
      "Correlation:  0.9925255165255166\n",
      "Dimension:  4\n",
      "=====================================\n",
      "=====================================\n",
      "Function:  mf_Park91B\n",
      "Correlation:  1.0\n",
      "Dimension:  4\n",
      "=====================================\n",
      "=====================================\n",
      "Function:  mf_Sixhump\n",
      "Correlation:  0.630914994914995\n",
      "Dimension:  2\n",
      "=====================================\n"
     ]
    },
    {
     "data": {
      "text/html": [
       "<div>\n",
       "<style scoped>\n",
       "    .dataframe tbody tr th:only-of-type {\n",
       "        vertical-align: middle;\n",
       "    }\n",
       "\n",
       "    .dataframe tbody tr th {\n",
       "        vertical-align: top;\n",
       "    }\n",
       "\n",
       "    .dataframe thead th {\n",
       "        text-align: right;\n",
       "    }\n",
       "</style>\n",
       "<table border=\"1\" class=\"dataframe\">\n",
       "  <thead>\n",
       "    <tr style=\"text-align: right;\">\n",
       "      <th></th>\n",
       "      <th>function</th>\n",
       "      <th>correlation</th>\n",
       "      <th>dimension</th>\n",
       "    </tr>\n",
       "  </thead>\n",
       "  <tbody>\n",
       "    <tr>\n",
       "      <th>0</th>\n",
       "      <td>mf_Bohachevsky</td>\n",
       "      <td>0.894205</td>\n",
       "      <td>2.0</td>\n",
       "    </tr>\n",
       "    <tr>\n",
       "      <th>1</th>\n",
       "      <td>mf_Booth</td>\n",
       "      <td>0.822009</td>\n",
       "      <td>2.0</td>\n",
       "    </tr>\n",
       "    <tr>\n",
       "      <th>2</th>\n",
       "      <td>mf_Borehole</td>\n",
       "      <td>1.000000</td>\n",
       "      <td>8.0</td>\n",
       "    </tr>\n",
       "    <tr>\n",
       "      <th>3</th>\n",
       "      <td>mf_CurrinExp</td>\n",
       "      <td>0.997204</td>\n",
       "      <td>2.0</td>\n",
       "    </tr>\n",
       "    <tr>\n",
       "      <th>4</th>\n",
       "      <td>mf_Hartman3</td>\n",
       "      <td>-0.267578</td>\n",
       "      <td>3.0</td>\n",
       "    </tr>\n",
       "    <tr>\n",
       "      <th>5</th>\n",
       "      <td>mf_Hartman6</td>\n",
       "      <td>0.737286</td>\n",
       "      <td>6.0</td>\n",
       "    </tr>\n",
       "    <tr>\n",
       "      <th>6</th>\n",
       "      <td>mf_Himmelblau</td>\n",
       "      <td>0.823073</td>\n",
       "      <td>2.0</td>\n",
       "    </tr>\n",
       "    <tr>\n",
       "      <th>7</th>\n",
       "      <td>mf_Park91A</td>\n",
       "      <td>0.992526</td>\n",
       "      <td>4.0</td>\n",
       "    </tr>\n",
       "    <tr>\n",
       "      <th>8</th>\n",
       "      <td>mf_Park91B</td>\n",
       "      <td>1.000000</td>\n",
       "      <td>4.0</td>\n",
       "    </tr>\n",
       "    <tr>\n",
       "      <th>9</th>\n",
       "      <td>mf_Sixhump</td>\n",
       "      <td>0.630915</td>\n",
       "      <td>2.0</td>\n",
       "    </tr>\n",
       "  </tbody>\n",
       "</table>\n",
       "</div>"
      ],
      "text/plain": [
       "         function  correlation  dimension\n",
       "0  mf_Bohachevsky     0.894205        2.0\n",
       "1        mf_Booth     0.822009        2.0\n",
       "2     mf_Borehole     1.000000        8.0\n",
       "3    mf_CurrinExp     0.997204        2.0\n",
       "4     mf_Hartman3    -0.267578        3.0\n",
       "5     mf_Hartman6     0.737286        6.0\n",
       "6   mf_Himmelblau     0.823073        2.0\n",
       "7      mf_Park91A     0.992526        4.0\n",
       "8      mf_Park91B     1.000000        4.0\n",
       "9      mf_Sixhump     0.630915        2.0"
      ]
     },
     "execution_count": 2,
     "metadata": {},
     "output_type": "execute_result"
    }
   ],
   "source": [
    "# calculate the correlation of each function\n",
    "problem_sets = [\n",
    "    \"mf_Bohachevsky\",\n",
    "    \"mf_Booth\",\n",
    "    \"mf_Borehole\",\n",
    "    \"mf_CurrinExp\",\n",
    "    \"mf_Hartman3\",\n",
    "    \"mf_Hartman6\",\n",
    "    \"mf_Himmelblau\",\n",
    "    \"mf_Park91A\",\n",
    "    \"mf_Park91B\",\n",
    "    \"mf_Sixhump\",\n",
    "]\n",
    "# create an array to store the correlation\n",
    "correlation_array = pd.DataFrame(\n",
    "    np.zeros((len(problem_sets), 3)), columns=[\"function\", \"correlation\", \"dimension\"]\n",
    ")\n",
    "for name in problem_sets:\n",
    "    func = eval(name)()\n",
    "    # get samplers\n",
    "    sampler = MFSobolSequence(design_space=func.design_space, nested=True)\n",
    "    # sample the function\n",
    "    samples = sampler.get_samples(num_lf_samples=1000, num_hf_samples=1000)\n",
    "    responses = func(samples)\n",
    "    # calculate the correlation\n",
    "    r2 = spearmanr(responses[\"hf\"], responses[\"lf\"])\n",
    "    # save the correlation\n",
    "    correlation_array.loc[problem_sets.index(name), \"function\"] = name\n",
    "    correlation_array.loc[problem_sets.index(\n",
    "        name), \"correlation\"] = r2.correlation\n",
    "    correlation_array.loc[problem_sets.index(name), \"dimension\"] = func.num_dim\n",
    "\n",
    "    print(\"=====================================\")\n",
    "    print(\"Function: \", name)\n",
    "    print(\"Correlation: \", r2.correlation)\n",
    "    print(\"Dimension: \", func.num_dim)\n",
    "    print(\"=====================================\")\n",
    "# print(correlation_array)\n",
    "correlation_array"
   ]
  },
  {
   "cell_type": "markdown",
   "metadata": {},
   "source": [
    "## read results from the file\n",
    "\n",
    "In this notebook, we will do ablation study about MF-RBF-Kriging model.\n"
   ]
  },
  {
   "cell_type": "code",
   "execution_count": 3,
   "metadata": {},
   "outputs": [],
   "source": [
    "# read results for mf-rbf-kriging\n",
    "mf_rbf_kriging_input = pd.read_csv(\n",
    "    \"../mf_rbf_kriging/exp_mf_rbf_input.csv\", index_col=0\n",
    ")\n",
    "mf_rbf_kriging_output = pd.read_csv(\n",
    "    \"../mf_rbf_kriging/exp_mf_rbf_output.csv\", index_col=0\n",
    ")\n",
    "# merge input and output\n",
    "mf_rbf_kriging_results = pd.merge(\n",
    "    mf_rbf_kriging_input, mf_rbf_kriging_output, left_index=True, right_index=True\n",
    ")\n",
    "# make normalized_mae and normalized_rmse to be absolute value\n",
    "mf_rbf_kriging_results[\"normalized_mae\"] = mf_rbf_kriging_results[\n",
    "    \"normalized_mae\"\n",
    "].abs()\n",
    "mf_rbf_kriging_results[\"normalized_rmse\"] = mf_rbf_kriging_results[\n",
    "    \"normalized_rmse\"\n",
    "].abs()\n",
    "\n",
    "\n",
    "# load kriging results\n",
    "kriging_input = pd.read_csv(\"../kriging/exp_kriging_input.csv\", index_col=0)\n",
    "kriging_output = pd.read_csv(\"../kriging/exp_kriging_output.csv\", index_col=0)\n",
    "# merge input and output\n",
    "kriging_results = pd.merge(\n",
    "    kriging_input, kriging_output, left_index=True, right_index=True\n",
    ")\n",
    "# make normalized_mae and normalized_rmse to be absolute value\n",
    "kriging_results[\"normalized_mae\"] = kriging_results[\"normalized_mae\"].abs()\n",
    "kriging_results[\"normalized_rmse\"] = kriging_results[\"normalized_rmse\"].abs()\n",
    "# remove results of \"Forrestor_1a\"\n",
    "kriging_results = kriging_results[kriging_results[\"problem\"] != \"Forrester_1a\"]"
   ]
  },
  {
   "cell_type": "code",
   "execution_count": 4,
   "metadata": {},
   "outputs": [
    {
     "data": {
      "text/plain": [
       "array(['mf_Bohachevsky', 'mf_Booth', 'mf_Borehole', 'mf_CurrinExp',\n",
       "       'mf_Hartman3', 'mf_Hartman6', 'mf_Himmelblau', 'mf_Park91A',\n",
       "       'mf_Park91B', 'mf_Sixhump'], dtype=object)"
      ]
     },
     "execution_count": 4,
     "metadata": {},
     "output_type": "execute_result"
    }
   ],
   "source": [
    "mf_rbf_kriging_results.problem.unique()"
   ]
  },
  {
   "cell_type": "code",
   "execution_count": 7,
   "metadata": {},
   "outputs": [
    {
     "data": {
      "image/png": "[encoded data removed]",
      "text/plain": [
       "<Figure size 1200x800 with 1 Axes>"
      ]
     },
     "metadata": {},
     "output_type": "display_data"
    }
   ],
   "source": [
    "# select mf_Hartman3 function\n",
    "mf_rbf_kriging_results_hartman3 = mf_rbf_kriging_results[\n",
    "    mf_rbf_kriging_results[\"problem\"] == \"mf_Sixhump\"\n",
    "]\n",
    "kriging_results_hartman3 = kriging_results[kriging_results[\"problem\"] == \"mf_Sixhump\"]\n",
    "# find out the case with 100d lf samples and 10d hf samples\n",
    "aa = mf_rbf_kriging_results_hartman3[\n",
    "    (mf_rbf_kriging_results_hartman3[\"num_lf\"] == 100)\n",
    "    & (mf_rbf_kriging_results_hartman3[\"num_hf\"] == 10)\n",
    "]\n",
    "# same plots for normalized_mae and normalized_rmse and r2\n",
    "fig, ax = plt.subplots(1, 1, figsize=(12, 8))\n",
    "# plot r2\n",
    "sns.boxplot(\n",
    "    x=\"num_sample\",\n",
    "    y=\"r2\",\n",
    "    data=kriging_results_hartman3,\n",
    ")\n",
    "# # plot results of mf-rbf-kriging\n",
    "sns.boxplot(\n",
    "    x=\"num_hf\",\n",
    "    y=\"r2\",\n",
    "    data=aa,\n",
    ")\n",
    "plt.show()"
   ]
  },
  {
   "cell_type": "code",
   "execution_count": 10,
   "metadata": {},
   "outputs": [
    {
     "data": {
      "image/png": "[encoded data removed]",
      "text/plain": [
       "<Figure size 1600x800 with 1 Axes>"
      ]
     },
     "metadata": {},
     "output_type": "display_data"
    }
   ],
   "source": [
    "# Combine the datasets\n",
    "combined_data = pd.concat(\n",
    "    [\n",
    "        kriging_results_hartman3.assign(dataset=\"Kriging\"),\n",
    "        aa.assign(dataset=\"MF-RBF-Kriging\"),\n",
    "    ]\n",
    ")\n",
    "\n",
    "# Create a violin plot with hue\n",
    "fig, ax = plt.subplots(1, 1, figsize=(16, 8))\n",
    "sns.violinplot(\n",
    "    x=\"num_sample\", y=\"r2\", hue=\"dataset\", data=combined_data, ax=ax, split=True\n",
    ")\n",
    "plt.show()"
   ]
  },
  {
   "cell_type": "code",
   "execution_count": null,
   "metadata": {},
   "outputs": [],
   "source": []
  }
 ],
 "metadata": {
  "kernelspec": {
   "display_name": "mfpml_env",
   "language": "python",
   "name": "python3"
  },
  "language_info": {
   "codemirror_mode": {
    "name": "ipython",
    "version": 3
   },
   "file_extension": ".py",
   "mimetype": "text/x-python",
   "name": "python",
   "nbconvert_exporter": "python",
   "pygments_lexer": "ipython3",
   "version": "3.10.12"
  }
 },
 "nbformat": 4,
 "nbformat_minor": 2
}
