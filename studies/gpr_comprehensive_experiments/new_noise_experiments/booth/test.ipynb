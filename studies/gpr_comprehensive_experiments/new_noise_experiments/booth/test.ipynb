{
 "cells": [
  {
   "cell_type": "code",
   "execution_count": 1,
   "metadata": {},
   "outputs": [],
   "source": [
    "import pandas as pd"
   ]
  },
  {
   "cell_type": "code",
   "execution_count": 2,
   "metadata": {},
   "outputs": [],
   "source": [
    "\n",
    "# read the pkl file\n",
    "df = pd.read_pickle('exp_mf_rbf_gpr_jobs.pkl')"
   ]
  },
  {
   "cell_type": "code",
   "execution_count": 4,
   "metadata": {},
   "outputs": [
    {
     "data": {
      "text/plain": [
       "RangeIndex(start=0, stop=300, step=1)"
      ]
     },
     "execution_count": 4,
     "metadata": {},
     "output_type": "execute_result"
    }
   ],
   "source": [
    "df.keys()"
   ]
  },
  {
   "cell_type": "code",
   "execution_count": 6,
   "metadata": {},
   "outputs": [],
   "source": [
    "domain = pd.read_pickle('exp_mf_rbf_gpr_domain.pkl')"
   ]
  },
  {
   "cell_type": "code",
   "execution_count": 7,
   "metadata": {},
   "outputs": [
    {
     "data": {
      "text/plain": [
       "Domain(space={'problem': CategoricalParameter(_type='category', categories=['mf_Bohachevsky', 'mf_Booth', 'mf_Borehole', 'mf_CurrinExp', 'mf_Hartman3', 'mf_Hartman6', 'mf_Himmelblau', 'mf_Park91A', 'mf_Park91B', 'mf_Sixhump']), 'seed': DiscreteParameter(lower_bound=1, upper_bound=10, step=1), 'num_lf': DiscreteParameter(lower_bound=100, upper_bound=200, step=1), 'num_hf': DiscreteParameter(lower_bound=10, upper_bound=200, step=1), 'noise_std': DiscreteParameter(lower_bound=1, upper_bound=2, step=1)})"
      ]
     },
     "execution_count": 7,
     "metadata": {},
     "output_type": "execute_result"
    }
   ],
   "source": [
    "domain"
   ]
  },
  {
   "cell_type": "code",
   "execution_count": null,
   "metadata": {},
   "outputs": [],
   "source": []
  }
 ],
 "metadata": {
  "kernelspec": {
   "display_name": "mfpml_env",
   "language": "python",
   "name": "python3"
  },
  "language_info": {
   "codemirror_mode": {
    "name": "ipython",
    "version": 3
   },
   "file_extension": ".py",
   "mimetype": "text/x-python",
   "name": "python",
   "nbconvert_exporter": "python",
   "pygments_lexer": "ipython3",
   "version": "3.10.13"
  }
 },
 "nbformat": 4,
 "nbformat_minor": 2
}
